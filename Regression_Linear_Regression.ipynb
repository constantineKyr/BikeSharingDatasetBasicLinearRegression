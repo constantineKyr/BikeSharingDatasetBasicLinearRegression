{
  "nbformat": 4,
  "nbformat_minor": 0,
  "metadata": {
    "colab": {
      "name": "Regression - Linear Regression.ipynb",
      "provenance": [],
      "collapsed_sections": []
    },
    "kernelspec": {
      "name": "python3",
      "display_name": "Python 3"
    }
  },
  "cells": [
    {
      "cell_type": "markdown",
      "metadata": {
        "id": "BTAVsL1cshBT"
      },
      "source": [
        "# Regression using Linear Regression"
      ]
    },
    {
      "cell_type": "markdown",
      "metadata": {
        "id": "SQOVP-tVsrT3"
      },
      "source": [
        "**In this exercise we have to predict the number of persons that used a bicycle from all the available numeric features, by working on the 'Bike Sharing in Washington D.C.' dataset**"
      ]
    },
    {
      "cell_type": "markdown",
      "metadata": {
        "id": "SCIGB6nrw2r5"
      },
      "source": [
        "**Connect to GDrive**"
      ]
    },
    {
      "cell_type": "code",
      "metadata": {
        "id": "lWTe3XJbthcj",
        "colab": {
          "base_uri": "https://localhost:8080/"
        },
        "outputId": "a7f5ef13-dc38-4d0a-987f-e229be49db56"
      },
      "source": [
        "from google.colab import drive\n",
        "drive.mount(\"/content/gdrive\")"
      ],
      "execution_count": 3,
      "outputs": [
        {
          "output_type": "stream",
          "text": [
            "Mounted at /content/gdrive\n"
          ],
          "name": "stdout"
        }
      ]
    },
    {
      "cell_type": "markdown",
      "metadata": {
        "id": "SshkmyfDgPVQ"
      },
      "source": [
        "**Load the libraries**"
      ]
    },
    {
      "cell_type": "code",
      "metadata": {
        "id": "FSoyHJZTgS92"
      },
      "source": [
        "from sklearn.linear_model import SGDRegressor\n",
        "from io import StringIO\n",
        "import matplotlib.pyplot as plt\n",
        "import pandas as pd\n",
        "import numpy as np\n",
        "import sys"
      ],
      "execution_count": 41,
      "outputs": []
    },
    {
      "cell_type": "markdown",
      "metadata": {
        "id": "4b2rYr34ga-_"
      },
      "source": [
        "**Load the dataset**"
      ]
    },
    {
      "cell_type": "code",
      "metadata": {
        "id": "5sJVtZ-lgcft"
      },
      "source": [
        "dataset=pd.read_csv('/content/gdrive/MyDrive/day.csv')\n",
        "df=pd.DataFrame(data=dataset)"
      ],
      "execution_count": 42,
      "outputs": []
    },
    {
      "cell_type": "code",
      "metadata": {
        "id": "I-imLjYygrrW"
      },
      "source": [
        "# Change columns to be more readable\n",
        "df=df.rename(columns={\"dteday\": \"date\", \"yr\": \"year\", \"mnth\": \"month\", \"weekday\": \"day_of_the_week\", \"workingday\": \"working_day\",\n",
        "                      \"weathersit\": \"weather_situation\", \"temp\": \"real_temperature\", \"atemp\": \"feeling_temperature\",\n",
        "                      \"hum\": \"humidity\", \"windspeed\": \"wind_speed\", \"cnt\": \"num_of_bikes\"})"
      ],
      "execution_count": 43,
      "outputs": []
    },
    {
      "cell_type": "markdown",
      "metadata": {
        "id": "VjKG8S-dg2G5"
      },
      "source": [
        "# Feature Engineering"
      ]
    },
    {
      "cell_type": "markdown",
      "metadata": {
        "id": "iLZTqzgnxIn8"
      },
      "source": [
        "**Remove unwanted columns**"
      ]
    },
    {
      "cell_type": "code",
      "metadata": {
        "id": "ppF5gOXgxJxd"
      },
      "source": [
        "# Keep only numeric data\n",
        "df = df.drop(['instant','date','season','year','month','holiday','day_of_the_week','working_day','weather_situation','casual','registered'],axis=1)"
      ],
      "execution_count": 44,
      "outputs": []
    },
    {
      "cell_type": "markdown",
      "metadata": {
        "id": "1ca_i-17xT-h"
      },
      "source": [
        "**Final Dataset**"
      ]
    },
    {
      "cell_type": "code",
      "metadata": {
        "id": "055E9H5Lmb3r",
        "colab": {
          "base_uri": "https://localhost:8080/",
          "height": 419
        },
        "outputId": "9fc79c1b-efa1-489a-dc99-aadb40341db9"
      },
      "source": [
        "df"
      ],
      "execution_count": 45,
      "outputs": [
        {
          "output_type": "execute_result",
          "data": {
            "text/html": [
              "<div>\n",
              "<style scoped>\n",
              "    .dataframe tbody tr th:only-of-type {\n",
              "        vertical-align: middle;\n",
              "    }\n",
              "\n",
              "    .dataframe tbody tr th {\n",
              "        vertical-align: top;\n",
              "    }\n",
              "\n",
              "    .dataframe thead th {\n",
              "        text-align: right;\n",
              "    }\n",
              "</style>\n",
              "<table border=\"1\" class=\"dataframe\">\n",
              "  <thead>\n",
              "    <tr style=\"text-align: right;\">\n",
              "      <th></th>\n",
              "      <th>real_temperature</th>\n",
              "      <th>feeling_temperature</th>\n",
              "      <th>humidity</th>\n",
              "      <th>wind_speed</th>\n",
              "      <th>num_of_bikes</th>\n",
              "    </tr>\n",
              "  </thead>\n",
              "  <tbody>\n",
              "    <tr>\n",
              "      <th>0</th>\n",
              "      <td>0.344167</td>\n",
              "      <td>0.363625</td>\n",
              "      <td>0.805833</td>\n",
              "      <td>0.160446</td>\n",
              "      <td>985</td>\n",
              "    </tr>\n",
              "    <tr>\n",
              "      <th>1</th>\n",
              "      <td>0.363478</td>\n",
              "      <td>0.353739</td>\n",
              "      <td>0.696087</td>\n",
              "      <td>0.248539</td>\n",
              "      <td>801</td>\n",
              "    </tr>\n",
              "    <tr>\n",
              "      <th>2</th>\n",
              "      <td>0.196364</td>\n",
              "      <td>0.189405</td>\n",
              "      <td>0.437273</td>\n",
              "      <td>0.248309</td>\n",
              "      <td>1349</td>\n",
              "    </tr>\n",
              "    <tr>\n",
              "      <th>3</th>\n",
              "      <td>0.200000</td>\n",
              "      <td>0.212122</td>\n",
              "      <td>0.590435</td>\n",
              "      <td>0.160296</td>\n",
              "      <td>1562</td>\n",
              "    </tr>\n",
              "    <tr>\n",
              "      <th>4</th>\n",
              "      <td>0.226957</td>\n",
              "      <td>0.229270</td>\n",
              "      <td>0.436957</td>\n",
              "      <td>0.186900</td>\n",
              "      <td>1600</td>\n",
              "    </tr>\n",
              "    <tr>\n",
              "      <th>...</th>\n",
              "      <td>...</td>\n",
              "      <td>...</td>\n",
              "      <td>...</td>\n",
              "      <td>...</td>\n",
              "      <td>...</td>\n",
              "    </tr>\n",
              "    <tr>\n",
              "      <th>726</th>\n",
              "      <td>0.254167</td>\n",
              "      <td>0.226642</td>\n",
              "      <td>0.652917</td>\n",
              "      <td>0.350133</td>\n",
              "      <td>2114</td>\n",
              "    </tr>\n",
              "    <tr>\n",
              "      <th>727</th>\n",
              "      <td>0.253333</td>\n",
              "      <td>0.255046</td>\n",
              "      <td>0.590000</td>\n",
              "      <td>0.155471</td>\n",
              "      <td>3095</td>\n",
              "    </tr>\n",
              "    <tr>\n",
              "      <th>728</th>\n",
              "      <td>0.253333</td>\n",
              "      <td>0.242400</td>\n",
              "      <td>0.752917</td>\n",
              "      <td>0.124383</td>\n",
              "      <td>1341</td>\n",
              "    </tr>\n",
              "    <tr>\n",
              "      <th>729</th>\n",
              "      <td>0.255833</td>\n",
              "      <td>0.231700</td>\n",
              "      <td>0.483333</td>\n",
              "      <td>0.350754</td>\n",
              "      <td>1796</td>\n",
              "    </tr>\n",
              "    <tr>\n",
              "      <th>730</th>\n",
              "      <td>0.215833</td>\n",
              "      <td>0.223487</td>\n",
              "      <td>0.577500</td>\n",
              "      <td>0.154846</td>\n",
              "      <td>2729</td>\n",
              "    </tr>\n",
              "  </tbody>\n",
              "</table>\n",
              "<p>731 rows × 5 columns</p>\n",
              "</div>"
            ],
            "text/plain": [
              "     real_temperature  feeling_temperature  humidity  wind_speed  num_of_bikes\n",
              "0            0.344167             0.363625  0.805833    0.160446           985\n",
              "1            0.363478             0.353739  0.696087    0.248539           801\n",
              "2            0.196364             0.189405  0.437273    0.248309          1349\n",
              "3            0.200000             0.212122  0.590435    0.160296          1562\n",
              "4            0.226957             0.229270  0.436957    0.186900          1600\n",
              "..                ...                  ...       ...         ...           ...\n",
              "726          0.254167             0.226642  0.652917    0.350133          2114\n",
              "727          0.253333             0.255046  0.590000    0.155471          3095\n",
              "728          0.253333             0.242400  0.752917    0.124383          1341\n",
              "729          0.255833             0.231700  0.483333    0.350754          1796\n",
              "730          0.215833             0.223487  0.577500    0.154846          2729\n",
              "\n",
              "[731 rows x 5 columns]"
            ]
          },
          "metadata": {
            "tags": []
          },
          "execution_count": 45
        }
      ]
    },
    {
      "cell_type": "markdown",
      "metadata": {
        "id": "jPEgI-cDyH52"
      },
      "source": [
        "# Model Training"
      ]
    },
    {
      "cell_type": "markdown",
      "metadata": {
        "id": "pEoViocAELtX"
      },
      "source": [
        "**Split dataset into features and target labels**"
      ]
    },
    {
      "cell_type": "code",
      "metadata": {
        "id": "D-v5mNrhEO4W"
      },
      "source": [
        "X_train = df.drop(['num_of_bikes'], axis = 1)\r\n",
        "Y_train = df['num_of_bikes']"
      ],
      "execution_count": 46,
      "outputs": []
    },
    {
      "cell_type": "markdown",
      "metadata": {
        "id": "eYS8Sb-qJtYC"
      },
      "source": [
        "**1. Stochastic Gradient Descent Regressor - multilinear regression**"
      ]
    },
    {
      "cell_type": "code",
      "metadata": {
        "id": "ChDbWk-h8JDt"
      },
      "source": [
        "#Save output to a string variable, to manipulate it accordingly\r\n",
        "old_stdout = sys.stdout\r\n",
        "sys.stdout = mystdout = StringIO()"
      ],
      "execution_count": 61,
      "outputs": []
    },
    {
      "cell_type": "markdown",
      "metadata": {
        "id": "6llaedtuqHF9"
      },
      "source": [
        "1. Experiment 1 (learning rate a = 0.001)"
      ]
    },
    {
      "cell_type": "code",
      "metadata": {
        "id": "F6FH8ffkGyMe"
      },
      "source": [
        "learning_rate = 0.001\r\n",
        "sgd = SGDRegressor(loss=\"squared_loss\", learning_rate='constant', eta0=learning_rate, penalty=None, max_iter=1, average=False, random_state=2000, verbose=1)"
      ],
      "execution_count": 48,
      "outputs": []
    },
    {
      "cell_type": "code",
      "metadata": {
        "id": "s_VmXSypuAds"
      },
      "source": [
        "p_sum = [];\r\n",
        "coef_list=[];\r\n",
        "epochs = 15;\r\n",
        "for epoch in range(epochs):\r\n",
        "    model = sgd.partial_fit(X_train, Y_train)\r\n",
        "    Y_predict = model.predict(X_train)\r\n",
        "    coef_list.append(model.coef_.tolist())\r\n",
        "    print(model.coef_)\r\n",
        "    p_sum.append(np.sum(Y_train-Y_predict))\r\n",
        "    print(Y_predict, Y_train, np.sum(Y_train-Y_predict))"
      ],
      "execution_count": 49,
      "outputs": []
    },
    {
      "cell_type": "code",
      "metadata": {
        "id": "_gG4bRYOvB-0"
      },
      "source": [
        "sys.stdout = old_stdout\r\n",
        "loss_history = mystdout.getvalue()\r\n",
        "loss_list = []\r\n",
        "for line in loss_history.split('\\n'):\r\n",
        "    if (len(line.split(\"loss: \")) == 1):\r\n",
        "        continue\r\n",
        "    loss_list.append(float(line.split(\"loss: \")[-1]))"
      ],
      "execution_count": 50,
      "outputs": []
    },
    {
      "cell_type": "code",
      "metadata": {
        "colab": {
          "base_uri": "https://localhost:8080/",
          "height": 290
        },
        "id": "2MayBqaCyBxW",
        "outputId": "ee7d192f-d678-41fb-c274-c905cfba0a8a"
      },
      "source": [
        "plt.figure()\r\n",
        "plt.plot(np.arange(len(loss_list)), loss_list)\r\n",
        "plt.scatter(np.arange(len(loss_list)), loss_list)\r\n",
        "plt.xlabel(\"Time in epochs\")\r\n",
        "plt.ylabel(\"Loss\")\r\n",
        "plt.show()"
      ],
      "execution_count": 51,
      "outputs": [
        {
          "output_type": "display_data",
          "data": {
            "image/png": "[encoded data removed]",
            "text/plain": [
              "<Figure size 432x288 with 1 Axes>"
            ]
          },
          "metadata": {
            "tags": [],
            "needs_background": "light"
          }
        }
      ]
    },
    {
      "cell_type": "markdown",
      "metadata": {
        "id": "sBSqHKtwIFBn"
      },
      "source": [
        "2.   Experiment 2 (learning rate a = 0.01)"
      ]
    },
    {
      "cell_type": "code",
      "metadata": {
        "id": "PbOCFqN5ITBs"
      },
      "source": [
        "learning_rate = 0.01\r\n",
        "sgd = SGDRegressor(loss=\"squared_loss\", learning_rate='constant', eta0=learning_rate, penalty=None, max_iter=1, average=False, random_state=2000, verbose=1)"
      ],
      "execution_count": 53,
      "outputs": []
    },
    {
      "cell_type": "code",
      "metadata": {
        "id": "5Pjt81QmIdf9"
      },
      "source": [
        "p_sum = [];\r\n",
        "coef_list=[];\r\n",
        "epochs = 15;\r\n",
        "for epoch in range(epochs):\r\n",
        "    model = sgd.partial_fit(X_train, Y_train)\r\n",
        "    Y_predict = model.predict(X_train)\r\n",
        "    coef_list.append(model.coef_.tolist())\r\n",
        "    print(model.coef_)\r\n",
        "    p_sum.append(np.sum(Y_train-Y_predict))\r\n",
        "    print(Y_predict, Y_train, np.sum(Y_train-Y_predict))"
      ],
      "execution_count": 54,
      "outputs": []
    },
    {
      "cell_type": "code",
      "metadata": {
        "id": "h6IpxDYJIiO2"
      },
      "source": [
        "sys.stdout = old_stdout\r\n",
        "loss_history = mystdout.getvalue()\r\n",
        "loss_list = []\r\n",
        "for line in loss_history.split('\\n'):\r\n",
        "    if (len(line.split(\"loss: \")) == 1):\r\n",
        "        continue\r\n",
        "    loss_list.append(float(line.split(\"loss: \")[-1]))"
      ],
      "execution_count": 55,
      "outputs": []
    },
    {
      "cell_type": "code",
      "metadata": {
        "colab": {
          "base_uri": "https://localhost:8080/",
          "height": 290
        },
        "id": "oQcgC4OEIkrt",
        "outputId": "0c341110-ceaa-4d69-b9b8-4a5646adc26f"
      },
      "source": [
        "plt.figure()\r\n",
        "plt.plot(np.arange(len(loss_list)), loss_list)\r\n",
        "plt.scatter(np.arange(len(loss_list)), loss_list)\r\n",
        "plt.xlabel(\"Time in epochs\")\r\n",
        "plt.ylabel(\"Loss\")\r\n",
        "plt.show()"
      ],
      "execution_count": 56,
      "outputs": [
        {
          "output_type": "display_data",
          "data": {
            "image/png": "[encoded data removed]",
            "text/plain": [
              "<Figure size 432x288 with 1 Axes>"
            ]
          },
          "metadata": {
            "tags": [],
            "needs_background": "light"
          }
        }
      ]
    },
    {
      "cell_type": "markdown",
      "metadata": {
        "id": "4kRcsSJMJNO_"
      },
      "source": [
        "3.   Experiment 3 (learning rate a = 0.1)"
      ]
    },
    {
      "cell_type": "code",
      "metadata": {
        "id": "Se7Y2Jw2JW4D"
      },
      "source": [
        "learning_rate = 0.1\r\n",
        "sgd = SGDRegressor(loss=\"squared_loss\", learning_rate='constant', eta0=learning_rate, penalty=None, max_iter=1, average=False, random_state=2000, verbose=1)"
      ],
      "execution_count": 62,
      "outputs": []
    },
    {
      "cell_type": "code",
      "metadata": {
        "id": "ySU0QuTYJa4F"
      },
      "source": [
        "p_sum = [];\r\n",
        "coef_list=[];\r\n",
        "epochs = 15;\r\n",
        "for epoch in range(epochs):\r\n",
        "    model = sgd.partial_fit(X_train, Y_train)\r\n",
        "    Y_predict = model.predict(X_train)\r\n",
        "    coef_list.append(model.coef_.tolist())\r\n",
        "    print(model.coef_)\r\n",
        "    p_sum.append(np.sum(Y_train-Y_predict))\r\n",
        "    print(Y_predict, Y_train, np.sum(Y_train-Y_predict))"
      ],
      "execution_count": 63,
      "outputs": []
    },
    {
      "cell_type": "code",
      "metadata": {
        "id": "e_OLbhmjJeld"
      },
      "source": [
        "sys.stdout = old_stdout\r\n",
        "loss_history = mystdout.getvalue()\r\n",
        "loss_list = []\r\n",
        "for line in loss_history.split('\\n'):\r\n",
        "    if (len(line.split(\"loss: \")) == 1):\r\n",
        "        continue\r\n",
        "    loss_list.append(float(line.split(\"loss: \")[-1]))"
      ],
      "execution_count": 64,
      "outputs": []
    },
    {
      "cell_type": "code",
      "metadata": {
        "colab": {
          "base_uri": "https://localhost:8080/",
          "height": 290
        },
        "id": "7bGNSMLPJwcF",
        "outputId": "3b5e2252-af60-44d1-fd0f-f5b238c862ae"
      },
      "source": [
        "plt.figure()\r\n",
        "plt.plot(np.arange(len(loss_list)), loss_list)\r\n",
        "plt.scatter(np.arange(len(loss_list)), loss_list)\r\n",
        "plt.xlabel(\"Time in epochs\")\r\n",
        "plt.ylabel(\"Loss\")\r\n",
        "plt.show()"
      ],
      "execution_count": 65,
      "outputs": [
        {
          "output_type": "display_data",
          "data": {
            "image/png": "[encoded data removed]",
            "text/plain": [
              "<Figure size 432x288 with 1 Axes>"
            ]
          },
          "metadata": {
            "tags": [],
            "needs_background": "light"
          }
        }
      ]
    },
    {
      "cell_type": "markdown",
      "metadata": {
        "id": "LLoHIr1TKpUX"
      },
      "source": [
        "**Conclusions**\r\n",
        "\r\n",
        "*By choosing the learning rate to be a = 0.1, we have the optimal hyperparameter. This is because for each epoch - thus iteration the loss of the cost function has the minimum possible value, and the model seems to have learned the weights well*"
      ]
    },
    {
      "cell_type": "markdown",
      "metadata": {
        "id": "jDfz3HEzNtg3"
      },
      "source": [
        "**2. Stochastic Gradient Descent Regressor - linear regression**\r\n",
        "\r\n",
        "*We choose 'feeling_temperature' as the most prominent feature of the numeric columns and only one instance*"
      ]
    },
    {
      "cell_type": "code",
      "metadata": {
        "id": "W_E28ihJLu49"
      },
      "source": [
        "X_train = df[['feeling_temperature']]\r\n",
        "Y_train = df['num_of_bikes']\r\n",
        "X_train = X_train[:1].values\r\n",
        "Y_train = Y_train[:1].values"
      ],
      "execution_count": 160,
      "outputs": []
    },
    {
      "cell_type": "code",
      "metadata": {
        "id": "IvVCIWa_Q_DP"
      },
      "source": [
        "#Save output to a string variable, to manipulate it accordingly\r\n",
        "old_stdout = sys.stdout\r\n",
        "sys.stdout = mystdout = StringIO()"
      ],
      "execution_count": 161,
      "outputs": []
    },
    {
      "cell_type": "markdown",
      "metadata": {
        "id": "Vs1DhPlmRTfG"
      },
      "source": [
        "*1.   Experiment 1 (learning rate a = 0.001)*"
      ]
    },
    {
      "cell_type": "code",
      "metadata": {
        "id": "Z0dOsJM9RHa1"
      },
      "source": [
        "learning_rate = 0.001\r\n",
        "sgd = SGDRegressor(loss=\"squared_loss\", learning_rate='constant', eta0=learning_rate, penalty=None, max_iter=1, average=False, random_state=2000, verbose=1)"
      ],
      "execution_count": 148,
      "outputs": []
    },
    {
      "cell_type": "code",
      "metadata": {
        "id": "NaUxGWjzRh5T"
      },
      "source": [
        "p_sum = [];\r\n",
        "coef_list=[];\r\n",
        "epochs = 15;\r\n",
        "for epoch in range(epochs):\r\n",
        "    model = sgd.partial_fit(X_train, Y_train)\r\n",
        "    Y_predict = model.predict(X_train)\r\n",
        "    coef_list.append(model.coef_.tolist())\r\n",
        "    print(model.coef_)\r\n",
        "    p_sum.append(np.sum(Y_train-Y_predict))\r\n",
        "    print(Y_predict, Y_train, np.sum(Y_train-Y_predict))"
      ],
      "execution_count": 149,
      "outputs": []
    },
    {
      "cell_type": "code",
      "metadata": {
        "id": "jU6I29JhSV-g"
      },
      "source": [
        "sys.stdout = old_stdout\r\n",
        "loss_history = mystdout.getvalue()\r\n",
        "loss_list = []\r\n",
        "for line in loss_history.split('\\n'):\r\n",
        "    if (len(line.split(\"loss: \")) == 1):\r\n",
        "        continue\r\n",
        "    loss_list.append(float(line.split(\"loss: \")[-1]))"
      ],
      "execution_count": 150,
      "outputs": []
    },
    {
      "cell_type": "code",
      "metadata": {
        "colab": {
          "base_uri": "https://localhost:8080/",
          "height": 279
        },
        "id": "xrgv7j9MSwiP",
        "outputId": "122edfa2-d60e-42a0-fdef-581d27d79678"
      },
      "source": [
        "plt.figure()\r\n",
        "plt.plot(np.arange(len(loss_list)), loss_list)\r\n",
        "plt.scatter(np.arange(len(loss_list)), loss_list)\r\n",
        "plt.xlabel(\"Time in epochs\")\r\n",
        "plt.ylabel(\"Loss\")\r\n",
        "plt.show()"
      ],
      "execution_count": 151,
      "outputs": [
        {
          "output_type": "display_data",
          "data": {
            "image/png": "[encoded data removed]",
            "text/plain": [
              "<Figure size 432x288 with 1 Axes>"
            ]
          },
          "metadata": {
            "tags": [],
            "needs_background": "light"
          }
        }
      ]
    },
    {
      "cell_type": "code",
      "metadata": {
        "colab": {
          "base_uri": "https://localhost:8080/",
          "height": 286
        },
        "id": "CTBPg1X0TdBg",
        "outputId": "d505b843-7bd3-4b47-eb7b-cbdd535d50c7"
      },
      "source": [
        "plt.figure()\r\n",
        "plt.plot(p_sum, loss_list)\r\n",
        "plt.scatter(p_sum, loss_list)\r\n",
        "plt.scatter(p_sum[:1], loss_list[:1], color='red')\r\n",
        "plt.xlabel(\"$y-\\hat{y}$\")\r\n",
        "plt.ylabel(\"Loss\")\r\n",
        "plt.show()"
      ],
      "execution_count": 152,
      "outputs": [
        {
          "output_type": "display_data",
          "data": {
            "image/png": "[encoded data removed]",
            "text/plain": [
              "<Figure size 432x288 with 1 Axes>"
            ]
          },
          "metadata": {
            "tags": [],
            "needs_background": "light"
          }
        }
      ]
    },
    {
      "cell_type": "markdown",
      "metadata": {
        "id": "CJpEYwBsUMaH"
      },
      "source": [
        "2. Experiment 2 (learning rate a = 0.01)"
      ]
    },
    {
      "cell_type": "code",
      "metadata": {
        "id": "DpPykKJ6UQRq"
      },
      "source": [
        "learning_rate = 0.01\r\n",
        "sgd = SGDRegressor(loss=\"squared_loss\", learning_rate='constant', eta0=learning_rate, penalty=None, max_iter=1, average=False, random_state=2000, verbose=1)"
      ],
      "execution_count": 155,
      "outputs": []
    },
    {
      "cell_type": "code",
      "metadata": {
        "id": "HxC19sY8UVM2"
      },
      "source": [
        "p_sum = [];\r\n",
        "coef_list=[];\r\n",
        "epochs = 15;\r\n",
        "for epoch in range(epochs):\r\n",
        "    model = sgd.partial_fit(X_train, Y_train)\r\n",
        "    Y_predict = model.predict(X_train)\r\n",
        "    coef_list.append(model.coef_.tolist())\r\n",
        "    print(model.coef_)\r\n",
        "    p_sum.append(np.sum(Y_train-Y_predict))\r\n",
        "    print(Y_predict, Y_train, np.sum(Y_train-Y_predict))"
      ],
      "execution_count": 156,
      "outputs": []
    },
    {
      "cell_type": "code",
      "metadata": {
        "id": "Kpv3-IrxUYPW"
      },
      "source": [
        "sys.stdout = old_stdout\r\n",
        "loss_history = mystdout.getvalue()\r\n",
        "loss_list = []\r\n",
        "for line in loss_history.split('\\n'):\r\n",
        "    if (len(line.split(\"loss: \")) == 1):\r\n",
        "        continue\r\n",
        "    loss_list.append(float(line.split(\"loss: \")[-1]))"
      ],
      "execution_count": 157,
      "outputs": []
    },
    {
      "cell_type": "code",
      "metadata": {
        "colab": {
          "base_uri": "https://localhost:8080/",
          "height": 279
        },
        "id": "krsGmbcrUawf",
        "outputId": "838e0f1a-ba33-4852-8deb-ede8cecc03dd"
      },
      "source": [
        "plt.figure()\r\n",
        "plt.plot(np.arange(len(loss_list)), loss_list)\r\n",
        "plt.scatter(np.arange(len(loss_list)), loss_list)\r\n",
        "plt.xlabel(\"Time in epochs\")\r\n",
        "plt.ylabel(\"Loss\")\r\n",
        "plt.show()"
      ],
      "execution_count": 158,
      "outputs": [
        {
          "output_type": "display_data",
          "data": {
            "image/png": "[encoded data removed]",
            "text/plain": [
              "<Figure size 432x288 with 1 Axes>"
            ]
          },
          "metadata": {
            "tags": [],
            "needs_background": "light"
          }
        }
      ]
    },
    {
      "cell_type": "code",
      "metadata": {
        "colab": {
          "base_uri": "https://localhost:8080/",
          "height": 286
        },
        "id": "EABpkCSTUds2",
        "outputId": "108c34fb-0807-42d3-c920-3f0b16cdbc86"
      },
      "source": [
        "plt.figure()\r\n",
        "plt.plot(p_sum, loss_list)\r\n",
        "plt.scatter(p_sum, loss_list)\r\n",
        "plt.scatter(p_sum[:1], loss_list[:1], color='red')\r\n",
        "plt.xlabel(\"$y-\\hat{y}$\")\r\n",
        "plt.ylabel(\"Loss\")\r\n",
        "plt.show()"
      ],
      "execution_count": 159,
      "outputs": [
        {
          "output_type": "display_data",
          "data": {
            "image/png": "[encoded data removed]",
            "text/plain": [
              "<Figure size 432x288 with 1 Axes>"
            ]
          },
          "metadata": {
            "tags": [],
            "needs_background": "light"
          }
        }
      ]
    },
    {
      "cell_type": "markdown",
      "metadata": {
        "id": "hkFhQIS3Uy4A"
      },
      "source": [
        "3. Experiment 3 (learning rate a = 0.1)"
      ]
    },
    {
      "cell_type": "code",
      "metadata": {
        "id": "hfg-Sa0lU1AI"
      },
      "source": [
        "learning_rate = 0.1\r\n",
        "sgd = SGDRegressor(loss=\"squared_loss\", learning_rate='constant', eta0=learning_rate, penalty=None, max_iter=1, average=False, random_state=2000, verbose=1)"
      ],
      "execution_count": 162,
      "outputs": []
    },
    {
      "cell_type": "code",
      "metadata": {
        "id": "ZO7OgzzFU6yB"
      },
      "source": [
        "p_sum = [];\r\n",
        "coef_list=[];\r\n",
        "epochs = 15;\r\n",
        "for epoch in range(epochs):\r\n",
        "    model = sgd.partial_fit(X_train, Y_train)\r\n",
        "    Y_predict = model.predict(X_train)\r\n",
        "    coef_list.append(model.coef_.tolist())\r\n",
        "    print(model.coef_)\r\n",
        "    p_sum.append(np.sum(Y_train-Y_predict))\r\n",
        "    print(Y_predict, Y_train, np.sum(Y_train-Y_predict))"
      ],
      "execution_count": 163,
      "outputs": []
    },
    {
      "cell_type": "code",
      "metadata": {
        "id": "eobgGL1yU-LK"
      },
      "source": [
        "sys.stdout = old_stdout\r\n",
        "loss_history = mystdout.getvalue()\r\n",
        "loss_list = []\r\n",
        "for line in loss_history.split('\\n'):\r\n",
        "    if (len(line.split(\"loss: \")) == 1):\r\n",
        "        continue\r\n",
        "    loss_list.append(float(line.split(\"loss: \")[-1]))"
      ],
      "execution_count": 164,
      "outputs": []
    },
    {
      "cell_type": "code",
      "metadata": {
        "colab": {
          "base_uri": "https://localhost:8080/",
          "height": 280
        },
        "id": "LaDBj00kU_yP",
        "outputId": "4fe6e373-9c3a-431a-d722-61b22da5ba41"
      },
      "source": [
        "plt.figure()\r\n",
        "plt.plot(np.arange(len(loss_list)), loss_list)\r\n",
        "plt.scatter(np.arange(len(loss_list)), loss_list)\r\n",
        "plt.xlabel(\"Time in epochs\")\r\n",
        "plt.ylabel(\"Loss\")\r\n",
        "plt.show()"
      ],
      "execution_count": 165,
      "outputs": [
        {
          "output_type": "display_data",
          "data": {
            "image/png": "[encoded data removed]",
            "text/plain": [
              "<Figure size 432x288 with 1 Axes>"
            ]
          },
          "metadata": {
            "tags": [],
            "needs_background": "light"
          }
        }
      ]
    },
    {
      "cell_type": "code",
      "metadata": {
        "colab": {
          "base_uri": "https://localhost:8080/",
          "height": 286
        },
        "id": "exY4ppMTVAcI",
        "outputId": "20366f05-3d00-42cb-ef19-ce568b226c23"
      },
      "source": [
        "plt.figure()\r\n",
        "plt.plot(p_sum, loss_list)\r\n",
        "plt.scatter(p_sum, loss_list)\r\n",
        "plt.scatter(p_sum[:1], loss_list[:1], color='red')\r\n",
        "plt.xlabel(\"$y-\\hat{y}$\")\r\n",
        "plt.ylabel(\"Loss\")\r\n",
        "plt.show()"
      ],
      "execution_count": 166,
      "outputs": [
        {
          "output_type": "display_data",
          "data": {
            "image/png": "[encoded data removed]",
            "text/plain": [
              "<Figure size 432x288 with 1 Axes>"
            ]
          },
          "metadata": {
            "tags": [],
            "needs_background": "light"
          }
        }
      ]
    },
    {
      "cell_type": "markdown",
      "metadata": {
        "id": "V8arRQKqWoqI"
      },
      "source": [
        "**Conclusions**\r\n",
        "\r\n",
        "*By choosing the learning rate to be a = 0.1, we have the optimal hyperparameter. This is because for each epoch - thus iteration the loss of the cost function minimizes well. Also by plotting the loss of the linear model with respect to the y-y^ we can see that the difference of predicted and actual values reach close to zero with a minimum loss*"
      ]
    }
  ]
}