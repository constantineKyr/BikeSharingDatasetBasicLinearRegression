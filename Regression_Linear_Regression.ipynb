{
  "nbformat": 4,
  "nbformat_minor": 0,
  "metadata": {
    "colab": {
      "name": "Regression - Linear Regression.ipynb",
      "provenance": [],
      "authorship_tag": "ABX9TyPD2HrJPS2dPOqZxHyp5vbw"
    },
    "kernelspec": {
      "name": "python3",
      "display_name": "Python 3"
    }
  },
  "cells": [
    {
      "cell_type": "markdown",
      "metadata": {
        "id": "BTAVsL1cshBT"
      },
      "source": [
        "# Regression using Linear Regression"
      ]
    },
    {
      "cell_type": "markdown",
      "metadata": {
        "id": "SQOVP-tVsrT3"
      },
      "source": [
        "**In this exercise we have to predict the number of persons that used a bicycle from all the available numeric features, by working on the 'Bike Sharing in Washington D.C.' dataset**"
      ]
    },
    {
      "cell_type": "markdown",
      "metadata": {
        "id": "SCIGB6nrw2r5"
      },
      "source": [
        "**Connect to GDrive**"
      ]
    },
    {
      "cell_type": "code",
      "metadata": {
        "id": "lWTe3XJbthcj",
        "colab": {
          "base_uri": "https://localhost:8080/"
        },
        "outputId": "4598d356-77ec-42cc-fde6-e667b7e6a6e0"
      },
      "source": [
        "from google.colab import drive\n",
        "drive.mount(\"/content/gdrive\")"
      ],
      "execution_count": 1,
      "outputs": [
        {
          "output_type": "stream",
          "text": [
            "Mounted at /content/gdrive\n"
          ],
          "name": "stdout"
        }
      ]
    },
    {
      "cell_type": "markdown",
      "metadata": {
        "id": "SshkmyfDgPVQ"
      },
      "source": [
        "**Load the libraries**"
      ]
    },
    {
      "cell_type": "code",
      "metadata": {
        "id": "FSoyHJZTgS92"
      },
      "source": [
        "from sklearn.model_selection import train_test_split\n",
        "import pandas as pd"
      ],
      "execution_count": 7,
      "outputs": []
    },
    {
      "cell_type": "markdown",
      "metadata": {
        "id": "4b2rYr34ga-_"
      },
      "source": [
        "**Load the dataset**"
      ]
    },
    {
      "cell_type": "code",
      "metadata": {
        "id": "5sJVtZ-lgcft"
      },
      "source": [
        "dataset=pd.read_csv('/content/gdrive/MyDrive/day.csv')\n",
        "df=pd.DataFrame(data=dataset)"
      ],
      "execution_count": 9,
      "outputs": []
    },
    {
      "cell_type": "code",
      "metadata": {
        "id": "I-imLjYygrrW"
      },
      "source": [
        "# Change columns to be more readable\n",
        "df=df.rename(columns={\"dteday\": \"date\", \"yr\": \"year\", \"mnth\": \"month\", \"weekday\": \"day_of_the_week\", \"workingday\": \"working_day\",\n",
        "                      \"weathersit\": \"weather_situation\", \"temp\": \"real_temperature\", \"atemp\": \"feeling_temperature\",\n",
        "                      \"hum\": \"humidity\", \"windspeed\": \"wind_speed\", \"cnt\": \"num_of_bikes\"})"
      ],
      "execution_count": 10,
      "outputs": []
    },
    {
      "cell_type": "markdown",
      "metadata": {
        "id": "VjKG8S-dg2G5"
      },
      "source": [
        "# Feature Engineering"
      ]
    },
    {
      "cell_type": "markdown",
      "metadata": {
        "id": "iLZTqzgnxIn8"
      },
      "source": [
        "**Remove unwanted columns**"
      ]
    },
    {
      "cell_type": "code",
      "metadata": {
        "id": "ppF5gOXgxJxd"
      },
      "source": [
        "# Keep only numeric data\n",
        "df = df.drop(['instant','date','season','year','month','holiday','day_of_the_week','working_day','weather_situation','casual','registered'],axis=1)"
      ],
      "execution_count": 11,
      "outputs": []
    },
    {
      "cell_type": "markdown",
      "metadata": {
        "id": "1ca_i-17xT-h"
      },
      "source": [
        "**Final Dataset**"
      ]
    },
    {
      "cell_type": "code",
      "metadata": {
        "id": "055E9H5Lmb3r",
        "colab": {
          "base_uri": "https://localhost:8080/",
          "height": 419
        },
        "outputId": "308386c1-83b3-4258-e36a-5e27323c543d"
      },
      "source": [
        "df"
      ],
      "execution_count": 12,
      "outputs": [
        {
          "output_type": "execute_result",
          "data": {
            "text/html": [
              "<div>\n",
              "<style scoped>\n",
              "    .dataframe tbody tr th:only-of-type {\n",
              "        vertical-align: middle;\n",
              "    }\n",
              "\n",
              "    .dataframe tbody tr th {\n",
              "        vertical-align: top;\n",
              "    }\n",
              "\n",
              "    .dataframe thead th {\n",
              "        text-align: right;\n",
              "    }\n",
              "</style>\n",
              "<table border=\"1\" class=\"dataframe\">\n",
              "  <thead>\n",
              "    <tr style=\"text-align: right;\">\n",
              "      <th></th>\n",
              "      <th>real_temperature</th>\n",
              "      <th>feeling_temperature</th>\n",
              "      <th>humidity</th>\n",
              "      <th>wind_speed</th>\n",
              "      <th>num_of_bikes</th>\n",
              "    </tr>\n",
              "  </thead>\n",
              "  <tbody>\n",
              "    <tr>\n",
              "      <th>0</th>\n",
              "      <td>0.344167</td>\n",
              "      <td>0.363625</td>\n",
              "      <td>0.805833</td>\n",
              "      <td>0.160446</td>\n",
              "      <td>985</td>\n",
              "    </tr>\n",
              "    <tr>\n",
              "      <th>1</th>\n",
              "      <td>0.363478</td>\n",
              "      <td>0.353739</td>\n",
              "      <td>0.696087</td>\n",
              "      <td>0.248539</td>\n",
              "      <td>801</td>\n",
              "    </tr>\n",
              "    <tr>\n",
              "      <th>2</th>\n",
              "      <td>0.196364</td>\n",
              "      <td>0.189405</td>\n",
              "      <td>0.437273</td>\n",
              "      <td>0.248309</td>\n",
              "      <td>1349</td>\n",
              "    </tr>\n",
              "    <tr>\n",
              "      <th>3</th>\n",
              "      <td>0.200000</td>\n",
              "      <td>0.212122</td>\n",
              "      <td>0.590435</td>\n",
              "      <td>0.160296</td>\n",
              "      <td>1562</td>\n",
              "    </tr>\n",
              "    <tr>\n",
              "      <th>4</th>\n",
              "      <td>0.226957</td>\n",
              "      <td>0.229270</td>\n",
              "      <td>0.436957</td>\n",
              "      <td>0.186900</td>\n",
              "      <td>1600</td>\n",
              "    </tr>\n",
              "    <tr>\n",
              "      <th>...</th>\n",
              "      <td>...</td>\n",
              "      <td>...</td>\n",
              "      <td>...</td>\n",
              "      <td>...</td>\n",
              "      <td>...</td>\n",
              "    </tr>\n",
              "    <tr>\n",
              "      <th>726</th>\n",
              "      <td>0.254167</td>\n",
              "      <td>0.226642</td>\n",
              "      <td>0.652917</td>\n",
              "      <td>0.350133</td>\n",
              "      <td>2114</td>\n",
              "    </tr>\n",
              "    <tr>\n",
              "      <th>727</th>\n",
              "      <td>0.253333</td>\n",
              "      <td>0.255046</td>\n",
              "      <td>0.590000</td>\n",
              "      <td>0.155471</td>\n",
              "      <td>3095</td>\n",
              "    </tr>\n",
              "    <tr>\n",
              "      <th>728</th>\n",
              "      <td>0.253333</td>\n",
              "      <td>0.242400</td>\n",
              "      <td>0.752917</td>\n",
              "      <td>0.124383</td>\n",
              "      <td>1341</td>\n",
              "    </tr>\n",
              "    <tr>\n",
              "      <th>729</th>\n",
              "      <td>0.255833</td>\n",
              "      <td>0.231700</td>\n",
              "      <td>0.483333</td>\n",
              "      <td>0.350754</td>\n",
              "      <td>1796</td>\n",
              "    </tr>\n",
              "    <tr>\n",
              "      <th>730</th>\n",
              "      <td>0.215833</td>\n",
              "      <td>0.223487</td>\n",
              "      <td>0.577500</td>\n",
              "      <td>0.154846</td>\n",
              "      <td>2729</td>\n",
              "    </tr>\n",
              "  </tbody>\n",
              "</table>\n",
              "<p>731 rows × 5 columns</p>\n",
              "</div>"
            ],
            "text/plain": [
              "     real_temperature  feeling_temperature  humidity  wind_speed  num_of_bikes\n",
              "0            0.344167             0.363625  0.805833    0.160446           985\n",
              "1            0.363478             0.353739  0.696087    0.248539           801\n",
              "2            0.196364             0.189405  0.437273    0.248309          1349\n",
              "3            0.200000             0.212122  0.590435    0.160296          1562\n",
              "4            0.226957             0.229270  0.436957    0.186900          1600\n",
              "..                ...                  ...       ...         ...           ...\n",
              "726          0.254167             0.226642  0.652917    0.350133          2114\n",
              "727          0.253333             0.255046  0.590000    0.155471          3095\n",
              "728          0.253333             0.242400  0.752917    0.124383          1341\n",
              "729          0.255833             0.231700  0.483333    0.350754          1796\n",
              "730          0.215833             0.223487  0.577500    0.154846          2729\n",
              "\n",
              "[731 rows x 5 columns]"
            ]
          },
          "metadata": {
            "tags": []
          },
          "execution_count": 12
        }
      ]
    },
    {
      "cell_type": "markdown",
      "metadata": {
        "id": "jPEgI-cDyH52"
      },
      "source": [
        "# Model Training"
      ]
    }
  ]
}